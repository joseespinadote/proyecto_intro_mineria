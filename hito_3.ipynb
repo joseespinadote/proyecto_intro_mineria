{
 "cells": [
  {
   "cell_type": "markdown",
   "metadata": {},
   "source": [
    "# Hito 3: Corona virus (Covid-19)"
   ]
  },
  {
   "cell_type": "markdown",
   "metadata": {},
   "source": [
    "## Presentación\n",
    "\n",
    "Somos el equipo conformado por Raúl Cid, José Espina, Michelle Valenzuela y Alejandro Veragua. Nuestro *dataset* corresponde al [publicado en el portal Kaggle](https://www.kaggle.com/sudalairajkumar/novel-corona-virus-2019-dataset) construido y mantenido por la Universidad John Hopkins, al igual que para el hito 1\n",
    "\n",
    "## Comentarios sobre el hito 1\n",
    "\n",
    "Se realizó un análisis exploratorio, donde descubrimos varios datos inconsistentes y outliers\n",
    "Se buscaron correlaciones contra atributos como el ingreso per cápita, la temperatura, el índice de pobreza de los diferentes países, pero sin éxito. Finalmente se realizó una prueba de concepto de clústering a partir de los coeficientes de un modelo de regeresión polinomial donde sí aparecieron resultados interesantes\n",
    "\n",
    "## Propuesta del hito 3\n",
    "Considerando que los polinomios hacen \"overfitting\" cuando el grado es muy alto, como el ejercicio realizado en el hito 1, aprovecharemos hacer algo similar, con la diferencia de usar un modelo auto-regresivo y hacer clustering sobre los coeficientes que resulten del modelo. En particular, quisimos experimentar con un modelo auto-regresivo con media móvil (ARMA). Como se tienen datos sólo de los últimos meses y el virus es nuevo, los datos no son estacionarios (o no hay suficientes datos para demostrar que lo son), por lo que usaremos una variante llamada ARIMA (donde la \"i\" hace referencia a la integración), que permite encontrar las diferencias no-estacionarias para lograr la estacionariedad (https://www.statisticshowto.com/arma-model/)\n",
    "\n",
    "## Metodología de trabajo para el hito 3\n",
    "* se preprocesaron los datos, removiendo los datos outliers, ya que descubrimos en el hito 1 que hay paises con datos demasiado alejados de la tendencia central\n",
    "\n",
    "Además, se refuerza la idea de 2 artículos publicados que usan el mismo acercamiento\n",
    "1) Benvenuto, D., Giovanetti, M., Vassallo, L., Angeletti, S., & Ciccozzi, M. (2020). Application of the ARIMA model on the COVID-2019 epidemic dataset. Data in brief, 105340.\n",
    "2) Yang, Q., Wang, J., Ma, H., & Wang, X. (2020). Research on COVID-19 Based on ARIMA ModelΔ—Taking Hubei, China as an example to see the epidemic in Italy. Journal of Infection and Public Health.\n",
    "\n",
    "NOTA IMPORTANTE: Para ejecutar este notebook, se necesitan scikit, matplotlib, numpy y statsmodels. Éste último para poder aplicar el modelo ARIMA. Se debe instalar con pip en el ambiente del libro:\n",
    "\n",
    "$ pip install statsmodels\n",
    "\n",
    "o con conda:\n",
    "\n",
    "$ conda install -c conda-forge statsmodels\n",
    "\n",
    "(https://www.statsmodels.org/stable/install.html)\n",
    "\n",
    "NOTA IMPORTANTE 2: Calcular el modelo ARIMA toma un tiempo de cómputo importante\n",
    "\n",
    "En detalle, el plan es:\n",
    "\n",
    "* Calcular ARIMA para todos los países\n",
    "\n",
    "\n",
    "## Configuración base del notebook\n",
    "El bloque a continuación configura el libro, definiendo funciones y cargando las fuentes de datos"
   ]
  },
  {
   "cell_type": "code",
   "execution_count": 1,
   "metadata": {
    "_cell_guid": "b1076dfc-b9ad-4769-8c92-a6c4dae69d19",
    "_uuid": "8f2839f25d086af736a60e9eeb907d3b93b6e0e5"
   },
   "outputs": [],
   "source": [
    "# Librería de álgebra lineal\n",
    "import numpy as np \n",
    "# Procesamiento de datos y carga de archivos CSV\n",
    "import pandas as pd\n",
    "# Librearía gráfica\n",
    "import matplotlib.pylab as plt\n",
    "# Librería para usar recursos del sistema operativo\n",
    "import os \n",
    "# Librearía usada para extraer el nombre del archivo de cada path\n",
    "import ntpath\n",
    "# Librería gráfica\n",
    "import seaborn as sns\n",
    "# Librearía para usar herramientas relacionadas con\n",
    "# aprendizaje máquina. Se usó para preprocesar y\n",
    "# calcular regresión\n",
    "from sklearn.model_selection import train_test_split\n",
    "from sklearn import preprocessing\n",
    "# Colores\n",
    "from matplotlib import colors\n",
    "# Ticker\n",
    "import matplotlib.ticker as ticker\n",
    "# Animation\n",
    "import matplotlib.animation as animation\n",
    "# Arima\n",
    "from statsmodels.tsa.arima_model import ARIMA\n",
    "from matplotlib import pyplot\n",
    "from sklearn.metrics import mean_squared_error\n",
    "# Configuración general\n",
    "%load_ext autoreload\n",
    "%autoreload 2\n",
    "\n",
    "# Matplotlib inline\n",
    "%matplotlib notebook\n",
    "%matplotlib inline\n",
    "\n",
    "# Se prepara carga de los archivos del dataset\n",
    "paths = []\n",
    "for dirname, _, filenames in os.walk('./novel-corona-virus-2019-dataset'):\n",
    "    for filename in filenames:\n",
    "        path = os.path.join(dirname, filename)\n",
    "        paths.append(path);\n",
    "dataFrames = {}\n",
    "for path in paths:\n",
    "    dataFrames[ntpath.basename(path)] = pd.read_csv(path)"
   ]
  },
  {
   "cell_type": "markdown",
   "metadata": {},
   "source": [
    "### Preproceso: Outliers\n",
    "Como parte del preprocesamiento, se realiza el siguiente tratamiento a los datos: Para cada país, se revisan las columnas de confirmados, fallecidos y recuperados. En cada una de ellas se buscan outliers, en este caso, valores que superen en magnitud al percentil 99 o que sean menores a cero. Estos se transorman a NaN y luego interpolamos los datos para llenar estos espacios.\n",
    "Además, se debe recalcular la cantidad acumulada por día para cada columna."
   ]
  },
  {
   "cell_type": "code",
   "execution_count": 3,
   "metadata": {
    "scrolled": true
   },
   "outputs": [
    {
     "name": "stderr",
     "output_type": "stream",
     "text": [
      "C:\\devel\\conda\\lib\\site-packages\\ipykernel_launcher.py:7: SettingWithCopyWarning: \n",
      "A value is trying to be set on a copy of a slice from a DataFrame\n",
      "\n",
      "See the caveats in the documentation: https://pandas.pydata.org/pandas-docs/stable/user_guide/indexing.html#returning-a-view-versus-a-copy\n",
      "  import sys\n",
      "C:\\devel\\conda\\lib\\site-packages\\pandas\\core\\indexing.py:670: SettingWithCopyWarning: \n",
      "A value is trying to be set on a copy of a slice from a DataFrame\n",
      "\n",
      "See the caveats in the documentation: https://pandas.pydata.org/pandas-docs/stable/user_guide/indexing.html#returning-a-view-versus-a-copy\n",
      "  self._setitem_with_indexer(indexer, value)\n",
      "C:\\devel\\conda\\lib\\site-packages\\pandas\\core\\generic.py:7023: SettingWithCopyWarning: \n",
      "A value is trying to be set on a copy of a slice from a DataFrame\n",
      "\n",
      "See the caveats in the documentation: https://pandas.pydata.org/pandas-docs/stable/user_guide/indexing.html#returning-a-view-versus-a-copy\n",
      "  self._update_inplace(new_data)\n"
     ]
    },
    {
     "name": "stdout",
     "output_type": "stream",
     "text": [
      "       num_dia_desde_primer_caso            pais  num_confirmados  \\\n",
      "0                              0           Japan              2.0   \n",
      "1                              0  Mainland China            547.0   \n",
      "2                              0        Thailand              2.0   \n",
      "3                              0              US              1.0   \n",
      "4                              0       Australia              0.0   \n",
      "...                          ...             ...              ...   \n",
      "18532                        127      Uzbekistan            397.0   \n",
      "18533                        128       Venezuela            408.0   \n",
      "18534                        179         Vietnam              1.0   \n",
      "18535                        124          Zambia              0.0   \n",
      "18536                        122        Zimbabwe             58.0   \n",
      "\n",
      "       num_fallecidos  num_recuperados  acc_confirmados  acc_fallecidos  \\\n",
      "0                 0.0              0.0              2.0             0.0   \n",
      "1                17.0             28.0            547.0            17.0   \n",
      "2                 0.0              0.0              2.0             0.0   \n",
      "3                 0.0              0.0              1.0             0.0   \n",
      "4                 0.0              0.0              0.0             0.0   \n",
      "...               ...              ...              ...             ...   \n",
      "18532             3.0            108.0          16837.0            87.5   \n",
      "18533             4.0              0.0          12189.0           114.5   \n",
      "18534             0.0              3.0            331.5             0.0   \n",
      "18535             0.0              0.0           2150.0            30.0   \n",
      "18536             1.0              0.0           1368.5            14.5   \n",
      "\n",
      "       acc_recuperados fecha_observacion  num_dia_desde_22_enero  \n",
      "0                  0.0        01/22/2020                       0  \n",
      "1                 28.0        01/22/2020                       0  \n",
      "2                  0.0        01/22/2020                       0  \n",
      "3                  0.0        01/22/2020                       0  \n",
      "4                  0.0        01/23/2020                       1  \n",
      "...                ...               ...                     ...  \n",
      "18532           9068.0        07/20/2020                     180  \n",
      "18533           3537.5        07/20/2020                     180  \n",
      "18534            273.5        07/20/2020                     180  \n",
      "18535            827.0        07/20/2020                     180  \n",
      "18536            200.0        07/20/2020                     180  \n",
      "\n",
      "[18537 rows x 10 columns]\n"
     ]
    }
   ],
   "source": [
    "dset_base = pd.read_csv('dataset.csv')\n",
    "for pais in dset_base['pais'].unique():\n",
    "    for col in ['num_confirmados', 'num_fallecidos', 'num_recuperados']:\n",
    "        pais_col = dset_base[dset_base['pais']==str(pais)][col]\n",
    "        for value in pais_col.iteritems():\n",
    "            if value[1] > pais_col.quantile(.99) or value[1] < 0:\n",
    "                pais_col.loc[value[0]] = np.nan\n",
    "        pais_col.interpolate(inplace=True)\n",
    "        acc = pais_col.cumsum()\n",
    "        dset_base[col].iloc[pais_col.index] = pais_col\n",
    "        dset_base[str('acc') + col[3:]].iloc[pais_col.index] = acc"
   ]
  },
  {
   "cell_type": "markdown",
   "metadata": {},
   "source": [
    "## Modelo ARIMA\n",
    "Usamos un modelo ARIMA p=5,d=1,q=0. El detalle de estos parámetros se explica a continuación (basado en https://machinelearningmastery.com/arima-for-time-series-forecasting-with-python/)\n",
    "\n",
    "* El parámetro \"p\" es el número de observaciones pasadas que considera el modelo. También se le llama \"orden\". Usamos  14 debido a que es el tiempo que demora una persona es saber que tiene el virus, considerando tiempos de síntomas y resultado del exámen. Además, 14 días es el tiempo que dura la cuarentena para las personas con resultado positivo en su exámen\n",
    "* El parámetro \"d\" es el grado de diferenciación. Esto se usa para generar estacionariedad en series no estacionarias\n",
    "* El parámetro \"q\" es el tamaño de la media móvil para el error de los datos anteriores"
   ]
  },
  {
   "cell_type": "code",
   "execution_count": null,
   "metadata": {},
   "outputs": [],
   "source": [
    "# Se calculan coeficientes del ARIMA por país. Si ya está calculado se lee el csv\n",
    "dframe_arima = None\n",
    "if os.path.isfile('arima_coefs.csv') :\n",
    "    dframe_arima = pd.read_csv('arima_coefs.csv')\n",
    "else :\n",
    "    pais_arima_coef = dict()\n",
    "    paises_error = []\n",
    "    for pais in dset_base.pais.unique() :\n",
    "        dbset_actual = dset_base[dset_base['pais']==pais][['num_dia_desde_primer_caso','num_confirmados']]\n",
    "        dbset_actual= dbset_actual.reset_index()\n",
    "        series_actual = pd.Series(dbset_actual.num_confirmados.values, index=dbset_actual.num_dia_desde_primer_caso)\n",
    "        series_actual.index = pd.DatetimeIndex(series_actual.index).to_period('D')\n",
    "        try :\n",
    "            model = ARIMA(series_actual.astype(float), order=(5,1,0),missing=\"drop\")\n",
    "            model_fit = model.fit(disp=False)\n",
    "            pais_arima_coef[pais] = model_fit.params\n",
    "        except :\n",
    "            paises_error.append(pais)\n",
    "    dframe_arima = pd.DataFrame(data=pais_arima_coef)\n",
    "    dframe_arima.to_csv('arima_coefs.csv')\n",
    "print(dframe_arima)"
   ]
  }
 ],
 "metadata": {
  "kernelspec": {
   "display_name": "Python 3",
   "language": "python",
   "name": "python3"
  },
  "language_info": {
   "codemirror_mode": {
    "name": "ipython",
    "version": 3
   },
   "file_extension": ".py",
   "mimetype": "text/x-python",
   "name": "python",
   "nbconvert_exporter": "python",
   "pygments_lexer": "ipython3",
   "version": "3.7.6"
  }
 },
 "nbformat": 4,
 "nbformat_minor": 4
}
